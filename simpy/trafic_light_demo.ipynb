{
 "cells": [
  {
   "cell_type": "markdown",
   "metadata": {},
   "source": [
    "lairning Operations - Trafic Light Demo\n",
    "=================================\n",
    "\n",
    "In this Demo the lairning Operations platform will train an AI Agent to minimize car queues in an intersection.\n",
    "\n",
    "lairning Operations trains it's agenst by using a simulation of the environment: in this demo a car intersection.\n",
    "\n",
    "### Intersection Simulation\n",
    "\n",
    "The intersecton has 8 trafic lights: 'South/North', 'North/South', 'South/West', 'North/East', 'West/East', 'East/West', 'West/North', 'East/South'.\n",
    "\n",
    "Cars arrive at each trafic light following an exponential distribution with the following mean time between arrivals in seconds: [40, 30, 50, 60, 40, 20, 70, 60].\n",
    "\n",
    "If the trafic light is green the car throughput is 0.33 cars per second. When a trafic light turns green there is a delay of 10 seconds until the first car crosses it.\n",
    "\n",
    "The simulation runs for an hour and the agent every 10 seconds observes each trafic light queue and decides which colour should trafic light have in order to minimize the total number of cars in queues.\n",
    "\n",
    "### Baseline policy\n",
    "\n",
    "To evaluate the trained agent, it's performance is compared to a baseline policy.\n",
    "\n",
    "In this demo the baseline policy changes the trafic lights at each minute following a fixed sequence of all the possible trafic lights status combination.\n",
    "\n",
    "In a real scnenario, the baseline policy is the algorithm beeing used. \n",
    "\n",
    "# Demo Start\n",
    "\n",
    "**Run the Baseline Policy**\n"
   ]
  },
  {
   "cell_type": "code",
   "execution_count": 2,
   "metadata": {},
   "outputs": [
    {
     "name": "stdout",
     "output_type": "stream",
     "text": [
      "South/North - Total Cars: 167; Average Waiting Time: 101.08; 12 Cars Stopped\n",
      "North/South - Total Cars: 218; Average Waiting Time: 71.61; 11 Cars Stopped\n",
      "South/West - Total Cars: 139; Average Waiting Time: 188.85; 4 Cars Stopped\n",
      "North/East - Total Cars: 116; Average Waiting Time: 161.95; 7 Cars Stopped\n",
      "West/East - Total Cars: 181; Average Waiting Time: 93.89; 2 Cars Stopped\n",
      "East/West - Total Cars: 309; Average Waiting Time: 86.32; 3 Cars Stopped\n",
      "West/North - Total Cars: 96; Average Waiting Time: 141.30; 2 Cars Stopped\n",
      "East/South - Total Cars: 111; Average Waiting Time: 133.14; 0 Cars Stopped\n",
      "### Total Cars: 1337; Average waiting: 111.85\n",
      "### Queued Cars: 41; Std: 4.14\n"
     ]
    }
   ],
   "source": [
    "from trafic_light_model import Baseline, print_stats\n",
    "\n",
    "baseline = Baseline()\n",
    "policy = baseline.RoundRobin(6) # 10 seconds * 6 = 1 minute\n",
    "cars_in_queues = baseline.run(policy)\n",
    "print_stats(baseline.sim)"
   ]
  },
  {
   "cell_type": "markdown",
   "metadata": {},
   "source": [
    "**Train the agent**\n",
    "\n",
    "Taining consists on a certain number of training sessions. \n",
    "\n",
    "From session to session the agent tries to improve it's performance. In each session the performance is recorded and the policy used in the best performant session is selected."
   ]
  },
  {
   "cell_type": "code",
   "execution_count": null,
   "metadata": {},
   "outputs": [],
   "source": [
    "from trafic_light_model import N_ACTIONS, OBSERVATION_SPACE, SimModel\n",
    "from trainer import Trainer\n",
    "trainer = Trainer(N_ACTIONS, OBSERVATION_SPACE, SimModel)\n",
    "best_policy, training_results = trainer.run(sessions=2,log=True)"
   ]
  }
 ],
 "metadata": {
  "kernelspec": {
   "display_name": "pytorch",
   "language": "python",
   "name": "pytorch"
  },
  "language_info": {
   "codemirror_mode": {
    "name": "ipython",
    "version": 3
   },
   "file_extension": ".py",
   "mimetype": "text/x-python",
   "name": "python",
   "nbconvert_exporter": "python",
   "pygments_lexer": "ipython3",
   "version": "3.7.9"
  }
 },
 "nbformat": 4,
 "nbformat_minor": 4
}
